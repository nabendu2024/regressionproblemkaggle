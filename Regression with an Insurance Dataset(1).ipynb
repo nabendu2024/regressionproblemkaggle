{
 "cells": [
  {
   "cell_type": "code",
   "execution_count": 58,
   "id": "6aa33730-dc71-4672-97f2-aa5f35c2bc20",
   "metadata": {},
   "outputs": [],
   "source": [
    "import pandas as pd \n",
    "import numpy as np \n",
    "import seaborn as sns \n",
    "import matplotlib.pyplot as plt \n",
    "\n",
    "\n",
    "from sklearn.preprocessing import PowerTransformer\n",
    "from sklearn.linear_model import LinearRegression\n",
    "from sklearn.model_selection import train_test_split\n",
    "from sklearn.tree import DecisionTreeRegressor\n",
    "from sklearn.ensemble import RandomForestRegressor,AdaBoostRegressor,GradientBoostingRegressor\n",
    "from xgboost import XGBRFRegressor\n",
    "from sklearn.metrics import mean_squared_log_error,mean_absolute_percentage_error,mean_absolute_error,r2_score\n",
    "\n",
    "from catboost import CatBoostRegressor\n",
    "\n",
    "from lightgbm import LGBMRegressor\n",
    "pd.set_option('display.max_columns', None)"
   ]
  },
  {
   "cell_type": "code",
   "execution_count": 59,
   "id": "d8725a4a-035e-4508-92dc-04c9e5eadb52",
   "metadata": {},
   "outputs": [
    {
     "name": "stdout",
     "output_type": "stream",
     "text": [
      "Requirement already satisfied: catboost in /opt/anaconda3/lib/python3.12/site-packages (1.2.7)\n",
      "Requirement already satisfied: graphviz in /opt/anaconda3/lib/python3.12/site-packages (from catboost) (0.20.3)\n",
      "Requirement already satisfied: matplotlib in /opt/anaconda3/lib/python3.12/site-packages (from catboost) (3.8.4)\n",
      "Requirement already satisfied: numpy<2.0,>=1.16.0 in /opt/anaconda3/lib/python3.12/site-packages (from catboost) (1.26.4)\n",
      "Requirement already satisfied: pandas>=0.24 in /opt/anaconda3/lib/python3.12/site-packages (from catboost) (2.2.2)\n",
      "Requirement already satisfied: scipy in /opt/anaconda3/lib/python3.12/site-packages (from catboost) (1.13.1)\n",
      "Requirement already satisfied: plotly in /opt/anaconda3/lib/python3.12/site-packages (from catboost) (5.22.0)\n",
      "Requirement already satisfied: six in /opt/anaconda3/lib/python3.12/site-packages (from catboost) (1.16.0)\n",
      "Requirement already satisfied: python-dateutil>=2.8.2 in /opt/anaconda3/lib/python3.12/site-packages (from pandas>=0.24->catboost) (2.9.0.post0)\n",
      "Requirement already satisfied: pytz>=2020.1 in /opt/anaconda3/lib/python3.12/site-packages (from pandas>=0.24->catboost) (2024.1)\n",
      "Requirement already satisfied: tzdata>=2022.7 in /opt/anaconda3/lib/python3.12/site-packages (from pandas>=0.24->catboost) (2023.3)\n",
      "Requirement already satisfied: contourpy>=1.0.1 in /opt/anaconda3/lib/python3.12/site-packages (from matplotlib->catboost) (1.2.0)\n",
      "Requirement already satisfied: cycler>=0.10 in /opt/anaconda3/lib/python3.12/site-packages (from matplotlib->catboost) (0.11.0)\n",
      "Requirement already satisfied: fonttools>=4.22.0 in /opt/anaconda3/lib/python3.12/site-packages (from matplotlib->catboost) (4.51.0)\n",
      "Requirement already satisfied: kiwisolver>=1.3.1 in /opt/anaconda3/lib/python3.12/site-packages (from matplotlib->catboost) (1.4.4)\n",
      "Requirement already satisfied: packaging>=20.0 in /opt/anaconda3/lib/python3.12/site-packages (from matplotlib->catboost) (23.2)\n",
      "Requirement already satisfied: pillow>=8 in /opt/anaconda3/lib/python3.12/site-packages (from matplotlib->catboost) (10.3.0)\n",
      "Requirement already satisfied: pyparsing>=2.3.1 in /opt/anaconda3/lib/python3.12/site-packages (from matplotlib->catboost) (3.0.9)\n",
      "Requirement already satisfied: tenacity>=6.2.0 in /opt/anaconda3/lib/python3.12/site-packages (from plotly->catboost) (8.2.2)\n",
      "Requirement already satisfied: lightgbm in /opt/anaconda3/lib/python3.12/site-packages (4.5.0)\n",
      "Requirement already satisfied: numpy>=1.17.0 in /opt/anaconda3/lib/python3.12/site-packages (from lightgbm) (1.26.4)\n",
      "Requirement already satisfied: scipy in /opt/anaconda3/lib/python3.12/site-packages (from lightgbm) (1.13.1)\n"
     ]
    }
   ],
   "source": [
    "!pip install catboost\n",
    "!pip install lightgbm"
   ]
  },
  {
   "cell_type": "code",
   "execution_count": 60,
   "id": "ef1bf8e4-fbee-4291-b6d5-14a102efc644",
   "metadata": {},
   "outputs": [],
   "source": [
    "train_data= pd.read_csv('train.csv')\n",
    "test_data= pd.read_csv('test.csv')\n",
    "sample_data= pd.read_csv('sample_submission.csv')"
   ]
  },
  {
   "cell_type": "code",
   "execution_count": 61,
   "id": "9633dfb3-2225-42b0-8d62-cd3e9fbd57da",
   "metadata": {},
   "outputs": [
    {
     "data": {
      "text/html": [
       "<div>\n",
       "<style scoped>\n",
       "    .dataframe tbody tr th:only-of-type {\n",
       "        vertical-align: middle;\n",
       "    }\n",
       "\n",
       "    .dataframe tbody tr th {\n",
       "        vertical-align: top;\n",
       "    }\n",
       "\n",
       "    .dataframe thead th {\n",
       "        text-align: right;\n",
       "    }\n",
       "</style>\n",
       "<table border=\"1\" class=\"dataframe\">\n",
       "  <thead>\n",
       "    <tr style=\"text-align: right;\">\n",
       "      <th></th>\n",
       "      <th>id</th>\n",
       "      <th>Age</th>\n",
       "      <th>Gender</th>\n",
       "      <th>Annual Income</th>\n",
       "      <th>Marital Status</th>\n",
       "      <th>Number of Dependents</th>\n",
       "      <th>Education Level</th>\n",
       "      <th>Occupation</th>\n",
       "      <th>Health Score</th>\n",
       "      <th>Location</th>\n",
       "      <th>Policy Type</th>\n",
       "      <th>Previous Claims</th>\n",
       "      <th>Vehicle Age</th>\n",
       "      <th>Credit Score</th>\n",
       "      <th>Insurance Duration</th>\n",
       "      <th>Policy Start Date</th>\n",
       "      <th>Customer Feedback</th>\n",
       "      <th>Smoking Status</th>\n",
       "      <th>Exercise Frequency</th>\n",
       "      <th>Property Type</th>\n",
       "      <th>Premium Amount</th>\n",
       "    </tr>\n",
       "  </thead>\n",
       "  <tbody>\n",
       "    <tr>\n",
       "      <th>0</th>\n",
       "      <td>0</td>\n",
       "      <td>19.0</td>\n",
       "      <td>Female</td>\n",
       "      <td>10049.0</td>\n",
       "      <td>Married</td>\n",
       "      <td>1.0</td>\n",
       "      <td>Bachelor's</td>\n",
       "      <td>Self-Employed</td>\n",
       "      <td>22.598761</td>\n",
       "      <td>Urban</td>\n",
       "      <td>Premium</td>\n",
       "      <td>2.0</td>\n",
       "      <td>17.0</td>\n",
       "      <td>372.0</td>\n",
       "      <td>5.0</td>\n",
       "      <td>2023-12-23 15:21:39.134960</td>\n",
       "      <td>Poor</td>\n",
       "      <td>No</td>\n",
       "      <td>Weekly</td>\n",
       "      <td>House</td>\n",
       "      <td>2869.0</td>\n",
       "    </tr>\n",
       "    <tr>\n",
       "      <th>1</th>\n",
       "      <td>1</td>\n",
       "      <td>39.0</td>\n",
       "      <td>Female</td>\n",
       "      <td>31678.0</td>\n",
       "      <td>Divorced</td>\n",
       "      <td>3.0</td>\n",
       "      <td>Master's</td>\n",
       "      <td>NaN</td>\n",
       "      <td>15.569731</td>\n",
       "      <td>Rural</td>\n",
       "      <td>Comprehensive</td>\n",
       "      <td>1.0</td>\n",
       "      <td>12.0</td>\n",
       "      <td>694.0</td>\n",
       "      <td>2.0</td>\n",
       "      <td>2023-06-12 15:21:39.111551</td>\n",
       "      <td>Average</td>\n",
       "      <td>Yes</td>\n",
       "      <td>Monthly</td>\n",
       "      <td>House</td>\n",
       "      <td>1483.0</td>\n",
       "    </tr>\n",
       "  </tbody>\n",
       "</table>\n",
       "</div>"
      ],
      "text/plain": [
       "   id   Age  Gender  Annual Income Marital Status  Number of Dependents  \\\n",
       "0   0  19.0  Female        10049.0        Married                   1.0   \n",
       "1   1  39.0  Female        31678.0       Divorced                   3.0   \n",
       "\n",
       "  Education Level     Occupation  Health Score Location    Policy Type  \\\n",
       "0      Bachelor's  Self-Employed     22.598761    Urban        Premium   \n",
       "1        Master's            NaN     15.569731    Rural  Comprehensive   \n",
       "\n",
       "   Previous Claims  Vehicle Age  Credit Score  Insurance Duration  \\\n",
       "0              2.0         17.0         372.0                 5.0   \n",
       "1              1.0         12.0         694.0                 2.0   \n",
       "\n",
       "            Policy Start Date Customer Feedback Smoking Status  \\\n",
       "0  2023-12-23 15:21:39.134960              Poor             No   \n",
       "1  2023-06-12 15:21:39.111551           Average            Yes   \n",
       "\n",
       "  Exercise Frequency Property Type  Premium Amount  \n",
       "0             Weekly         House          2869.0  \n",
       "1            Monthly         House          1483.0  "
      ]
     },
     "execution_count": 61,
     "metadata": {},
     "output_type": "execute_result"
    }
   ],
   "source": [
    "train_data.head(2)"
   ]
  },
  {
   "cell_type": "code",
   "execution_count": 62,
   "id": "1aeb316c-55bf-4fa0-a05e-fca072cbaa27",
   "metadata": {},
   "outputs": [
    {
     "data": {
      "text/plain": [
       "(1200000, 21)"
      ]
     },
     "execution_count": 62,
     "metadata": {},
     "output_type": "execute_result"
    }
   ],
   "source": [
    "train_data.shape"
   ]
  },
  {
   "cell_type": "code",
   "execution_count": 63,
   "id": "961245df-ae09-4b99-8fc8-a6fcfb9eaad5",
   "metadata": {},
   "outputs": [
    {
     "data": {
      "text/html": [
       "<div>\n",
       "<style scoped>\n",
       "    .dataframe tbody tr th:only-of-type {\n",
       "        vertical-align: middle;\n",
       "    }\n",
       "\n",
       "    .dataframe tbody tr th {\n",
       "        vertical-align: top;\n",
       "    }\n",
       "\n",
       "    .dataframe thead th {\n",
       "        text-align: right;\n",
       "    }\n",
       "</style>\n",
       "<table border=\"1\" class=\"dataframe\">\n",
       "  <thead>\n",
       "    <tr style=\"text-align: right;\">\n",
       "      <th></th>\n",
       "      <th>id</th>\n",
       "      <th>Age</th>\n",
       "      <th>Gender</th>\n",
       "      <th>Annual Income</th>\n",
       "      <th>Marital Status</th>\n",
       "      <th>Number of Dependents</th>\n",
       "      <th>Education Level</th>\n",
       "      <th>Occupation</th>\n",
       "      <th>Health Score</th>\n",
       "      <th>Location</th>\n",
       "      <th>Policy Type</th>\n",
       "      <th>Previous Claims</th>\n",
       "      <th>Vehicle Age</th>\n",
       "      <th>Credit Score</th>\n",
       "      <th>Insurance Duration</th>\n",
       "      <th>Policy Start Date</th>\n",
       "      <th>Customer Feedback</th>\n",
       "      <th>Smoking Status</th>\n",
       "      <th>Exercise Frequency</th>\n",
       "      <th>Property Type</th>\n",
       "    </tr>\n",
       "  </thead>\n",
       "  <tbody>\n",
       "    <tr>\n",
       "      <th>0</th>\n",
       "      <td>1200000</td>\n",
       "      <td>28.0</td>\n",
       "      <td>Female</td>\n",
       "      <td>2310.0</td>\n",
       "      <td>NaN</td>\n",
       "      <td>4.0</td>\n",
       "      <td>Bachelor's</td>\n",
       "      <td>Self-Employed</td>\n",
       "      <td>7.657981</td>\n",
       "      <td>Rural</td>\n",
       "      <td>Basic</td>\n",
       "      <td>NaN</td>\n",
       "      <td>19.0</td>\n",
       "      <td>NaN</td>\n",
       "      <td>1.0</td>\n",
       "      <td>2023-06-04 15:21:39.245086</td>\n",
       "      <td>Poor</td>\n",
       "      <td>Yes</td>\n",
       "      <td>Weekly</td>\n",
       "      <td>House</td>\n",
       "    </tr>\n",
       "    <tr>\n",
       "      <th>1</th>\n",
       "      <td>1200001</td>\n",
       "      <td>31.0</td>\n",
       "      <td>Female</td>\n",
       "      <td>126031.0</td>\n",
       "      <td>Married</td>\n",
       "      <td>2.0</td>\n",
       "      <td>Master's</td>\n",
       "      <td>Self-Employed</td>\n",
       "      <td>13.381379</td>\n",
       "      <td>Suburban</td>\n",
       "      <td>Premium</td>\n",
       "      <td>NaN</td>\n",
       "      <td>14.0</td>\n",
       "      <td>372.0</td>\n",
       "      <td>8.0</td>\n",
       "      <td>2024-04-22 15:21:39.224915</td>\n",
       "      <td>Good</td>\n",
       "      <td>Yes</td>\n",
       "      <td>Rarely</td>\n",
       "      <td>Apartment</td>\n",
       "    </tr>\n",
       "  </tbody>\n",
       "</table>\n",
       "</div>"
      ],
      "text/plain": [
       "        id   Age  Gender  Annual Income Marital Status  Number of Dependents  \\\n",
       "0  1200000  28.0  Female         2310.0            NaN                   4.0   \n",
       "1  1200001  31.0  Female       126031.0        Married                   2.0   \n",
       "\n",
       "  Education Level     Occupation  Health Score  Location Policy Type  \\\n",
       "0      Bachelor's  Self-Employed      7.657981     Rural       Basic   \n",
       "1        Master's  Self-Employed     13.381379  Suburban     Premium   \n",
       "\n",
       "   Previous Claims  Vehicle Age  Credit Score  Insurance Duration  \\\n",
       "0              NaN         19.0           NaN                 1.0   \n",
       "1              NaN         14.0         372.0                 8.0   \n",
       "\n",
       "            Policy Start Date Customer Feedback Smoking Status  \\\n",
       "0  2023-06-04 15:21:39.245086              Poor            Yes   \n",
       "1  2024-04-22 15:21:39.224915              Good            Yes   \n",
       "\n",
       "  Exercise Frequency Property Type  \n",
       "0             Weekly         House  \n",
       "1             Rarely     Apartment  "
      ]
     },
     "execution_count": 63,
     "metadata": {},
     "output_type": "execute_result"
    }
   ],
   "source": [
    "test_data.head(2)"
   ]
  },
  {
   "cell_type": "code",
   "execution_count": 64,
   "id": "3d041697-fa80-44aa-8304-1981aa7c70da",
   "metadata": {},
   "outputs": [
    {
     "data": {
      "text/plain": [
       "(800000, 20)"
      ]
     },
     "execution_count": 64,
     "metadata": {},
     "output_type": "execute_result"
    }
   ],
   "source": [
    "test_data.shape"
   ]
  },
  {
   "cell_type": "code",
   "execution_count": 65,
   "id": "e173eb75-a677-4954-81e4-eca833e106a5",
   "metadata": {},
   "outputs": [
    {
     "data": {
      "text/html": [
       "<div>\n",
       "<style scoped>\n",
       "    .dataframe tbody tr th:only-of-type {\n",
       "        vertical-align: middle;\n",
       "    }\n",
       "\n",
       "    .dataframe tbody tr th {\n",
       "        vertical-align: top;\n",
       "    }\n",
       "\n",
       "    .dataframe thead th {\n",
       "        text-align: right;\n",
       "    }\n",
       "</style>\n",
       "<table border=\"1\" class=\"dataframe\">\n",
       "  <thead>\n",
       "    <tr style=\"text-align: right;\">\n",
       "      <th></th>\n",
       "      <th>id</th>\n",
       "      <th>Premium Amount</th>\n",
       "    </tr>\n",
       "  </thead>\n",
       "  <tbody>\n",
       "    <tr>\n",
       "      <th>0</th>\n",
       "      <td>1200000</td>\n",
       "      <td>1102.545</td>\n",
       "    </tr>\n",
       "    <tr>\n",
       "      <th>1</th>\n",
       "      <td>1200001</td>\n",
       "      <td>1102.545</td>\n",
       "    </tr>\n",
       "  </tbody>\n",
       "</table>\n",
       "</div>"
      ],
      "text/plain": [
       "        id  Premium Amount\n",
       "0  1200000        1102.545\n",
       "1  1200001        1102.545"
      ]
     },
     "execution_count": 65,
     "metadata": {},
     "output_type": "execute_result"
    }
   ],
   "source": [
    "sample_data.head(2)"
   ]
  },
  {
   "cell_type": "code",
   "execution_count": 66,
   "id": "119dd9f3-3478-473c-9fcd-2dc67b64278a",
   "metadata": {},
   "outputs": [
    {
     "data": {
      "text/plain": [
       "(800000, 2)"
      ]
     },
     "execution_count": 66,
     "metadata": {},
     "output_type": "execute_result"
    }
   ],
   "source": [
    "sample_data.shape"
   ]
  },
  {
   "cell_type": "markdown",
   "id": "ae2804f1-dbd3-496f-9974-eb0c9754a841",
   "metadata": {},
   "source": [
    "## Check the datatypes "
   ]
  },
  {
   "cell_type": "code",
   "execution_count": 68,
   "id": "6076b66d-2aa4-4d30-82bf-e5ab7960fcde",
   "metadata": {},
   "outputs": [
    {
     "name": "stdout",
     "output_type": "stream",
     "text": [
      "<class 'pandas.core.frame.DataFrame'>\n",
      "RangeIndex: 1200000 entries, 0 to 1199999\n",
      "Data columns (total 21 columns):\n",
      " #   Column                Non-Null Count    Dtype  \n",
      "---  ------                --------------    -----  \n",
      " 0   id                    1200000 non-null  int64  \n",
      " 1   Age                   1181295 non-null  float64\n",
      " 2   Gender                1200000 non-null  object \n",
      " 3   Annual Income         1155051 non-null  float64\n",
      " 4   Marital Status        1181471 non-null  object \n",
      " 5   Number of Dependents  1090328 non-null  float64\n",
      " 6   Education Level       1200000 non-null  object \n",
      " 7   Occupation            841925 non-null   object \n",
      " 8   Health Score          1125924 non-null  float64\n",
      " 9   Location              1200000 non-null  object \n",
      " 10  Policy Type           1200000 non-null  object \n",
      " 11  Previous Claims       835971 non-null   float64\n",
      " 12  Vehicle Age           1199994 non-null  float64\n",
      " 13  Credit Score          1062118 non-null  float64\n",
      " 14  Insurance Duration    1199999 non-null  float64\n",
      " 15  Policy Start Date     1200000 non-null  object \n",
      " 16  Customer Feedback     1122176 non-null  object \n",
      " 17  Smoking Status        1200000 non-null  object \n",
      " 18  Exercise Frequency    1200000 non-null  object \n",
      " 19  Property Type         1200000 non-null  object \n",
      " 20  Premium Amount        1200000 non-null  float64\n",
      "dtypes: float64(9), int64(1), object(11)\n",
      "memory usage: 192.3+ MB\n"
     ]
    }
   ],
   "source": [
    "train_data.info()"
   ]
  },
  {
   "cell_type": "code",
   "execution_count": 69,
   "id": "ea999bf8-c5da-4d34-8ad9-359f5c86b63a",
   "metadata": {},
   "outputs": [
    {
     "data": {
      "text/plain": [
       "Previous Claims         30.335750\n",
       "Occupation              29.839583\n",
       "Credit Score            11.490167\n",
       "Number of Dependents     9.139333\n",
       "Customer Feedback        6.485333\n",
       "Health Score             6.173000\n",
       "Annual Income            3.745750\n",
       "Age                      1.558750\n",
       "Marital Status           1.544083\n",
       "Vehicle Age              0.000500\n",
       "Insurance Duration       0.000083\n",
       "id                       0.000000\n",
       "Property Type            0.000000\n",
       "Exercise Frequency       0.000000\n",
       "Smoking Status           0.000000\n",
       "Policy Type              0.000000\n",
       "Policy Start Date        0.000000\n",
       "Location                 0.000000\n",
       "Education Level          0.000000\n",
       "Gender                   0.000000\n",
       "Premium Amount           0.000000\n",
       "dtype: float64"
      ]
     },
     "execution_count": 69,
     "metadata": {},
     "output_type": "execute_result"
    }
   ],
   "source": [
    "# Missing values \n",
    "((train_data.isnull().sum()/train_data.shape[0])*100).sort_values(ascending= False)"
   ]
  },
  {
   "cell_type": "markdown",
   "id": "7e1a34ea-68b7-4e3a-8806-e03bac033ac6",
   "metadata": {},
   "source": [
    "## Data cleaning"
   ]
  },
  {
   "cell_type": "code",
   "execution_count": 71,
   "id": "43a9b417-6dc0-4284-a08c-f304b35ed7cf",
   "metadata": {},
   "outputs": [],
   "source": [
    "# We can get rid of the id column \n",
    "train_data.drop(columns= 'id', inplace= True)\n",
    "test_data.drop(columns= 'id', inplace= True)"
   ]
  },
  {
   "cell_type": "code",
   "execution_count": 72,
   "id": "4251e4ef-7e4a-4377-9156-50e2363f424e",
   "metadata": {},
   "outputs": [
    {
     "data": {
      "text/html": [
       "<div>\n",
       "<style scoped>\n",
       "    .dataframe tbody tr th:only-of-type {\n",
       "        vertical-align: middle;\n",
       "    }\n",
       "\n",
       "    .dataframe tbody tr th {\n",
       "        vertical-align: top;\n",
       "    }\n",
       "\n",
       "    .dataframe thead th {\n",
       "        text-align: right;\n",
       "    }\n",
       "</style>\n",
       "<table border=\"1\" class=\"dataframe\">\n",
       "  <thead>\n",
       "    <tr style=\"text-align: right;\">\n",
       "      <th></th>\n",
       "      <th>Age</th>\n",
       "      <th>Gender</th>\n",
       "      <th>Annual Income</th>\n",
       "      <th>Marital Status</th>\n",
       "      <th>Number of Dependents</th>\n",
       "      <th>Education Level</th>\n",
       "      <th>Occupation</th>\n",
       "      <th>Health Score</th>\n",
       "      <th>Location</th>\n",
       "      <th>Policy Type</th>\n",
       "      <th>Previous Claims</th>\n",
       "      <th>Vehicle Age</th>\n",
       "      <th>Credit Score</th>\n",
       "      <th>Insurance Duration</th>\n",
       "      <th>Policy Start Date</th>\n",
       "      <th>Customer Feedback</th>\n",
       "      <th>Smoking Status</th>\n",
       "      <th>Exercise Frequency</th>\n",
       "      <th>Property Type</th>\n",
       "      <th>Premium Amount</th>\n",
       "    </tr>\n",
       "  </thead>\n",
       "  <tbody>\n",
       "    <tr>\n",
       "      <th>0</th>\n",
       "      <td>19.0</td>\n",
       "      <td>Female</td>\n",
       "      <td>10049.0</td>\n",
       "      <td>Married</td>\n",
       "      <td>1.0</td>\n",
       "      <td>Bachelor's</td>\n",
       "      <td>Self-Employed</td>\n",
       "      <td>22.598761</td>\n",
       "      <td>Urban</td>\n",
       "      <td>Premium</td>\n",
       "      <td>2.0</td>\n",
       "      <td>17.0</td>\n",
       "      <td>372.0</td>\n",
       "      <td>5.0</td>\n",
       "      <td>2023-12-23 15:21:39.134960</td>\n",
       "      <td>Poor</td>\n",
       "      <td>No</td>\n",
       "      <td>Weekly</td>\n",
       "      <td>House</td>\n",
       "      <td>2869.0</td>\n",
       "    </tr>\n",
       "    <tr>\n",
       "      <th>1</th>\n",
       "      <td>39.0</td>\n",
       "      <td>Female</td>\n",
       "      <td>31678.0</td>\n",
       "      <td>Divorced</td>\n",
       "      <td>3.0</td>\n",
       "      <td>Master's</td>\n",
       "      <td>NaN</td>\n",
       "      <td>15.569731</td>\n",
       "      <td>Rural</td>\n",
       "      <td>Comprehensive</td>\n",
       "      <td>1.0</td>\n",
       "      <td>12.0</td>\n",
       "      <td>694.0</td>\n",
       "      <td>2.0</td>\n",
       "      <td>2023-06-12 15:21:39.111551</td>\n",
       "      <td>Average</td>\n",
       "      <td>Yes</td>\n",
       "      <td>Monthly</td>\n",
       "      <td>House</td>\n",
       "      <td>1483.0</td>\n",
       "    </tr>\n",
       "    <tr>\n",
       "      <th>2</th>\n",
       "      <td>23.0</td>\n",
       "      <td>Male</td>\n",
       "      <td>25602.0</td>\n",
       "      <td>Divorced</td>\n",
       "      <td>3.0</td>\n",
       "      <td>High School</td>\n",
       "      <td>Self-Employed</td>\n",
       "      <td>47.177549</td>\n",
       "      <td>Suburban</td>\n",
       "      <td>Premium</td>\n",
       "      <td>1.0</td>\n",
       "      <td>14.0</td>\n",
       "      <td>NaN</td>\n",
       "      <td>3.0</td>\n",
       "      <td>2023-09-30 15:21:39.221386</td>\n",
       "      <td>Good</td>\n",
       "      <td>Yes</td>\n",
       "      <td>Weekly</td>\n",
       "      <td>House</td>\n",
       "      <td>567.0</td>\n",
       "    </tr>\n",
       "    <tr>\n",
       "      <th>3</th>\n",
       "      <td>21.0</td>\n",
       "      <td>Male</td>\n",
       "      <td>141855.0</td>\n",
       "      <td>Married</td>\n",
       "      <td>2.0</td>\n",
       "      <td>Bachelor's</td>\n",
       "      <td>NaN</td>\n",
       "      <td>10.938144</td>\n",
       "      <td>Rural</td>\n",
       "      <td>Basic</td>\n",
       "      <td>1.0</td>\n",
       "      <td>0.0</td>\n",
       "      <td>367.0</td>\n",
       "      <td>1.0</td>\n",
       "      <td>2024-06-12 15:21:39.226954</td>\n",
       "      <td>Poor</td>\n",
       "      <td>Yes</td>\n",
       "      <td>Daily</td>\n",
       "      <td>Apartment</td>\n",
       "      <td>765.0</td>\n",
       "    </tr>\n",
       "    <tr>\n",
       "      <th>4</th>\n",
       "      <td>21.0</td>\n",
       "      <td>Male</td>\n",
       "      <td>39651.0</td>\n",
       "      <td>Single</td>\n",
       "      <td>1.0</td>\n",
       "      <td>Bachelor's</td>\n",
       "      <td>Self-Employed</td>\n",
       "      <td>20.376094</td>\n",
       "      <td>Rural</td>\n",
       "      <td>Premium</td>\n",
       "      <td>0.0</td>\n",
       "      <td>8.0</td>\n",
       "      <td>598.0</td>\n",
       "      <td>4.0</td>\n",
       "      <td>2021-12-01 15:21:39.252145</td>\n",
       "      <td>Poor</td>\n",
       "      <td>Yes</td>\n",
       "      <td>Weekly</td>\n",
       "      <td>House</td>\n",
       "      <td>2022.0</td>\n",
       "    </tr>\n",
       "  </tbody>\n",
       "</table>\n",
       "</div>"
      ],
      "text/plain": [
       "    Age  Gender  Annual Income Marital Status  Number of Dependents  \\\n",
       "0  19.0  Female        10049.0        Married                   1.0   \n",
       "1  39.0  Female        31678.0       Divorced                   3.0   \n",
       "2  23.0    Male        25602.0       Divorced                   3.0   \n",
       "3  21.0    Male       141855.0        Married                   2.0   \n",
       "4  21.0    Male        39651.0         Single                   1.0   \n",
       "\n",
       "  Education Level     Occupation  Health Score  Location    Policy Type  \\\n",
       "0      Bachelor's  Self-Employed     22.598761     Urban        Premium   \n",
       "1        Master's            NaN     15.569731     Rural  Comprehensive   \n",
       "2     High School  Self-Employed     47.177549  Suburban        Premium   \n",
       "3      Bachelor's            NaN     10.938144     Rural          Basic   \n",
       "4      Bachelor's  Self-Employed     20.376094     Rural        Premium   \n",
       "\n",
       "   Previous Claims  Vehicle Age  Credit Score  Insurance Duration  \\\n",
       "0              2.0         17.0         372.0                 5.0   \n",
       "1              1.0         12.0         694.0                 2.0   \n",
       "2              1.0         14.0           NaN                 3.0   \n",
       "3              1.0          0.0         367.0                 1.0   \n",
       "4              0.0          8.0         598.0                 4.0   \n",
       "\n",
       "            Policy Start Date Customer Feedback Smoking Status  \\\n",
       "0  2023-12-23 15:21:39.134960              Poor             No   \n",
       "1  2023-06-12 15:21:39.111551           Average            Yes   \n",
       "2  2023-09-30 15:21:39.221386              Good            Yes   \n",
       "3  2024-06-12 15:21:39.226954              Poor            Yes   \n",
       "4  2021-12-01 15:21:39.252145              Poor            Yes   \n",
       "\n",
       "  Exercise Frequency Property Type  Premium Amount  \n",
       "0             Weekly         House          2869.0  \n",
       "1            Monthly         House          1483.0  \n",
       "2             Weekly         House           567.0  \n",
       "3              Daily     Apartment           765.0  \n",
       "4             Weekly         House          2022.0  "
      ]
     },
     "execution_count": 72,
     "metadata": {},
     "output_type": "execute_result"
    }
   ],
   "source": [
    "train_data.head()"
   ]
  },
  {
   "cell_type": "code",
   "execution_count": 73,
   "id": "4f6ab411-feb0-4ad4-b50b-9bd0fbacee48",
   "metadata": {},
   "outputs": [],
   "source": [
    "# We take the year and month from the policy start date and then drop the column \n",
    "train_data['Policy_start_year']= pd.to_datetime(train_data['Policy Start Date']).dt.year\n",
    "train_data['Policy_start_month']= pd.to_datetime(train_data['Policy Start Date']).dt.month"
   ]
  },
  {
   "cell_type": "code",
   "execution_count": 74,
   "id": "4775eaab-2333-4e6c-8b6e-56cdcd0edbfb",
   "metadata": {},
   "outputs": [],
   "source": [
    "test_data['Policy_start_year']= pd.to_datetime(test_data['Policy Start Date']).dt.year\n",
    "test_data['Policy_start_month']= pd.to_datetime(test_data['Policy Start Date']).dt.month"
   ]
  },
  {
   "cell_type": "code",
   "execution_count": 75,
   "id": "40bf2223-32dc-40da-af8b-74efa6b709cd",
   "metadata": {},
   "outputs": [],
   "source": [
    "train_data.drop(columns= 'Policy Start Date', inplace= True)\n",
    "test_data.drop(columns= 'Policy Start Date', inplace= True)"
   ]
  },
  {
   "cell_type": "markdown",
   "id": "a33665c9-8eb1-4f72-9263-133430a334d1",
   "metadata": {},
   "source": [
    "## Missing value treatment "
   ]
  },
  {
   "cell_type": "code",
   "execution_count": 77,
   "id": "ff2a3cc4-ad10-4d4b-bcb6-496ac89b5eff",
   "metadata": {},
   "outputs": [],
   "source": [
    "from sklearn.impute import SimpleImputer, KNNImputer"
   ]
  },
  {
   "cell_type": "code",
   "execution_count": 78,
   "id": "a02dae37-1cba-4cc6-ae89-f1517fb3a2a7",
   "metadata": {},
   "outputs": [],
   "source": [
    "si= SimpleImputer(strategy= 'median')"
   ]
  },
  {
   "cell_type": "code",
   "execution_count": 79,
   "id": "59053511-e568-4cbc-a75e-832f0bc21b70",
   "metadata": {},
   "outputs": [
    {
     "data": {
      "text/plain": [
       "Index(['Age', 'Gender', 'Annual Income', 'Marital Status',\n",
       "       'Number of Dependents', 'Education Level', 'Occupation', 'Health Score',\n",
       "       'Location', 'Policy Type', 'Previous Claims', 'Vehicle Age',\n",
       "       'Credit Score', 'Insurance Duration', 'Customer Feedback',\n",
       "       'Smoking Status', 'Exercise Frequency', 'Property Type',\n",
       "       'Premium Amount', 'Policy_start_year', 'Policy_start_month'],\n",
       "      dtype='object')"
      ]
     },
     "execution_count": 79,
     "metadata": {},
     "output_type": "execute_result"
    }
   ],
   "source": [
    "train_data.columns"
   ]
  },
  {
   "cell_type": "code",
   "execution_count": 80,
   "id": "b3b16a21-8e85-4fdd-bc67-6a60d16eba91",
   "metadata": {},
   "outputs": [],
   "source": [
    "num_cols= ['Age', 'Annual Income', 'Health Score', 'Credit Score', 'Vehicle Age']"
   ]
  },
  {
   "cell_type": "code",
   "execution_count": 81,
   "id": "48f82c19-2569-4311-9679-6d5f57472099",
   "metadata": {},
   "outputs": [],
   "source": [
    "train_data[num_cols]= si.fit_transform(train_data[num_cols])"
   ]
  },
  {
   "cell_type": "code",
   "execution_count": 82,
   "id": "9ca02bb1-c3ab-458a-a6e0-7ae581bcce67",
   "metadata": {},
   "outputs": [],
   "source": [
    "test_data[num_cols]= si.transform(test_data[num_cols])"
   ]
  },
  {
   "cell_type": "code",
   "execution_count": 83,
   "id": "a20cd8f0-d419-4f99-91ff-e6e92bb284d3",
   "metadata": {},
   "outputs": [
    {
     "data": {
      "text/plain": [
       "Age              0\n",
       "Annual Income    0\n",
       "Health Score     0\n",
       "Credit Score     0\n",
       "Vehicle Age      0\n",
       "dtype: int64"
      ]
     },
     "execution_count": 83,
     "metadata": {},
     "output_type": "execute_result"
    }
   ],
   "source": [
    "test_data[num_cols].isnull().sum()"
   ]
  },
  {
   "cell_type": "code",
   "execution_count": 84,
   "id": "ccf6b7d4-baf9-4823-87bc-a97027dcda5c",
   "metadata": {},
   "outputs": [
    {
     "data": {
      "text/plain": [
       "Age              0\n",
       "Annual Income    0\n",
       "Health Score     0\n",
       "Credit Score     0\n",
       "Vehicle Age      0\n",
       "dtype: int64"
      ]
     },
     "execution_count": 84,
     "metadata": {},
     "output_type": "execute_result"
    }
   ],
   "source": [
    "train_data[num_cols].isnull().sum()"
   ]
  },
  {
   "cell_type": "code",
   "execution_count": 85,
   "id": "d1a09f9f-17c3-484b-9341-c22c0a955be0",
   "metadata": {},
   "outputs": [
    {
     "data": {
      "text/plain": [
       "Previous Claims         30.335750\n",
       "Occupation              29.839583\n",
       "Number of Dependents     9.139333\n",
       "Customer Feedback        6.485333\n",
       "Marital Status           1.544083\n",
       "Insurance Duration       0.000083\n",
       "Credit Score             0.000000\n",
       "Policy_start_year        0.000000\n",
       "Premium Amount           0.000000\n",
       "Property Type            0.000000\n",
       "Exercise Frequency       0.000000\n",
       "Smoking Status           0.000000\n",
       "Age                      0.000000\n",
       "Vehicle Age              0.000000\n",
       "Gender                   0.000000\n",
       "Policy Type              0.000000\n",
       "Location                 0.000000\n",
       "Health Score             0.000000\n",
       "Education Level          0.000000\n",
       "Annual Income            0.000000\n",
       "Policy_start_month       0.000000\n",
       "dtype: float64"
      ]
     },
     "execution_count": 85,
     "metadata": {},
     "output_type": "execute_result"
    }
   ],
   "source": [
    "((train_data.isnull().sum()/train_data.shape[0])*100).sort_values(ascending= False)"
   ]
  },
  {
   "cell_type": "code",
   "execution_count": 86,
   "id": "831d30d9-1216-401b-a38e-f77f1fb932e0",
   "metadata": {},
   "outputs": [],
   "source": [
    "# We first need to encode these columns"
   ]
  },
  {
   "cell_type": "code",
   "execution_count": 87,
   "id": "a0cfc5d9-ca9a-4438-85a8-f41b6c4ed9fb",
   "metadata": {},
   "outputs": [],
   "source": [
    "# KNN imputer for categorical columns \n",
    "ki= KNNImputer(n_neighbors= 7, weights= 'distance')"
   ]
  },
  {
   "cell_type": "code",
   "execution_count": 88,
   "id": "6e061d41-50ec-4924-bc14-ec5bd673393d",
   "metadata": {},
   "outputs": [],
   "source": [
    "cat_cols= ['Previous Claims', 'Number of Dependents',  'Insurance Duration']"
   ]
  },
  {
   "cell_type": "code",
   "execution_count": 89,
   "id": "00b6a7e8-0b51-48fa-aa14-248498fcfaa1",
   "metadata": {},
   "outputs": [],
   "source": [
    "train_data['Insurance Duration']= ki.fit_transform(train_data[['Insurance Duration']])\n",
    "test_data['Insurance Duration']= ki.fit_transform(test_data[['Insurance Duration']])"
   ]
  },
  {
   "cell_type": "code",
   "execution_count": 90,
   "id": "6c80ec35-b659-449a-be17-2bb18ef1cb7a",
   "metadata": {},
   "outputs": [
    {
     "data": {
      "text/plain": [
       "Previous Claims         30.335750\n",
       "Occupation              29.839583\n",
       "Number of Dependents     9.139333\n",
       "Customer Feedback        6.485333\n",
       "Marital Status           1.544083\n",
       "Credit Score             0.000000\n",
       "Policy_start_year        0.000000\n",
       "Premium Amount           0.000000\n",
       "Property Type            0.000000\n",
       "Exercise Frequency       0.000000\n",
       "Smoking Status           0.000000\n",
       "Insurance Duration       0.000000\n",
       "Age                      0.000000\n",
       "Vehicle Age              0.000000\n",
       "Gender                   0.000000\n",
       "Policy Type              0.000000\n",
       "Location                 0.000000\n",
       "Health Score             0.000000\n",
       "Education Level          0.000000\n",
       "Annual Income            0.000000\n",
       "Policy_start_month       0.000000\n",
       "dtype: float64"
      ]
     },
     "execution_count": 90,
     "metadata": {},
     "output_type": "execute_result"
    }
   ],
   "source": [
    "# No. of missing in train\n",
    "((train_data.isnull().sum()/train_data.shape[0])*100).sort_values(ascending= False)"
   ]
  },
  {
   "cell_type": "code",
   "execution_count": 91,
   "id": "5e2f4c8a-0c61-429f-91af-db4a17c1677c",
   "metadata": {},
   "outputs": [
    {
     "data": {
      "text/plain": [
       "Previous Claims         30.350250\n",
       "Occupation              29.890625\n",
       "Number of Dependents     9.141250\n",
       "Customer Feedback        6.534500\n",
       "Marital Status           1.542000\n",
       "Credit Score             0.000000\n",
       "Policy_start_year        0.000000\n",
       "Property Type            0.000000\n",
       "Exercise Frequency       0.000000\n",
       "Smoking Status           0.000000\n",
       "Insurance Duration       0.000000\n",
       "Age                      0.000000\n",
       "Vehicle Age              0.000000\n",
       "Gender                   0.000000\n",
       "Policy Type              0.000000\n",
       "Location                 0.000000\n",
       "Health Score             0.000000\n",
       "Education Level          0.000000\n",
       "Annual Income            0.000000\n",
       "Policy_start_month       0.000000\n",
       "dtype: float64"
      ]
     },
     "execution_count": 91,
     "metadata": {},
     "output_type": "execute_result"
    }
   ],
   "source": [
    "# No.of missing in test \n",
    "((test_data.isnull().sum()/test_data.shape[0])*100).sort_values(ascending= False)"
   ]
  },
  {
   "cell_type": "code",
   "execution_count": 92,
   "id": "5f6a9fb5-4468-477e-accf-98104e0ecd2b",
   "metadata": {},
   "outputs": [],
   "source": [
    "si_cat= SimpleImputer(strategy='most_frequent')"
   ]
  },
  {
   "cell_type": "code",
   "execution_count": 93,
   "id": "6917f094-d64e-493c-ba28-202a272963bd",
   "metadata": {},
   "outputs": [],
   "source": [
    "cat_cols= ['Number of Dependents', 'Customer Feedback', 'Marital Status', 'Previous Claims', 'Occupation']"
   ]
  },
  {
   "cell_type": "code",
   "execution_count": 94,
   "id": "17985bc6-bc63-4346-8a36-d652cb12c100",
   "metadata": {},
   "outputs": [],
   "source": [
    "train_data[cat_cols]= si_cat.fit_transform(train_data[cat_cols])\n",
    "test_data[cat_cols]= si_cat.transform(test_data[cat_cols])"
   ]
  },
  {
   "cell_type": "code",
   "execution_count": 95,
   "id": "ea23dc8e-9f64-4da8-a0a9-8383a6597071",
   "metadata": {},
   "outputs": [
    {
     "data": {
      "text/plain": [
       "Age                     0.0\n",
       "Vehicle Age             0.0\n",
       "Policy_start_year       0.0\n",
       "Premium Amount          0.0\n",
       "Property Type           0.0\n",
       "Exercise Frequency      0.0\n",
       "Smoking Status          0.0\n",
       "Customer Feedback       0.0\n",
       "Insurance Duration      0.0\n",
       "Credit Score            0.0\n",
       "Previous Claims         0.0\n",
       "Gender                  0.0\n",
       "Policy Type             0.0\n",
       "Location                0.0\n",
       "Health Score            0.0\n",
       "Occupation              0.0\n",
       "Education Level         0.0\n",
       "Number of Dependents    0.0\n",
       "Marital Status          0.0\n",
       "Annual Income           0.0\n",
       "Policy_start_month      0.0\n",
       "dtype: float64"
      ]
     },
     "execution_count": 95,
     "metadata": {},
     "output_type": "execute_result"
    }
   ],
   "source": [
    "((train_data.isnull().sum()/train_data.shape[0])*100).sort_values(ascending= False)"
   ]
  },
  {
   "cell_type": "code",
   "execution_count": 96,
   "id": "91f2f9e8-545e-4cda-a174-901bb11167d8",
   "metadata": {},
   "outputs": [
    {
     "data": {
      "text/plain": [
       "Age                     0.0\n",
       "Gender                  0.0\n",
       "Policy_start_year       0.0\n",
       "Property Type           0.0\n",
       "Exercise Frequency      0.0\n",
       "Smoking Status          0.0\n",
       "Customer Feedback       0.0\n",
       "Insurance Duration      0.0\n",
       "Credit Score            0.0\n",
       "Vehicle Age             0.0\n",
       "Previous Claims         0.0\n",
       "Policy Type             0.0\n",
       "Location                0.0\n",
       "Health Score            0.0\n",
       "Occupation              0.0\n",
       "Education Level         0.0\n",
       "Number of Dependents    0.0\n",
       "Marital Status          0.0\n",
       "Annual Income           0.0\n",
       "Policy_start_month      0.0\n",
       "dtype: float64"
      ]
     },
     "execution_count": 96,
     "metadata": {},
     "output_type": "execute_result"
    }
   ],
   "source": [
    "((test_data.isnull().sum()/test_data.shape[0])*100).sort_values(ascending= False)"
   ]
  },
  {
   "cell_type": "markdown",
   "id": "357b5b26-7318-41b1-8f0c-a15593ade24f",
   "metadata": {},
   "source": [
    "### There are no more missing values left in both train and test "
   ]
  },
  {
   "cell_type": "markdown",
   "id": "8f5a9fa3-da81-4a52-b469-7834c6bc966b",
   "metadata": {},
   "source": [
    "## Encoding"
   ]
  },
  {
   "cell_type": "code",
   "execution_count": 99,
   "id": "fc0138a9-0327-42c2-a023-b8a2c1ed245d",
   "metadata": {},
   "outputs": [],
   "source": [
    "train_data['Number of Dependents']= train_data['Number of Dependents'].astype(float)\n",
    "test_data['Number of Dependents']= test_data['Number of Dependents'].astype(float)"
   ]
  },
  {
   "cell_type": "code",
   "execution_count": 100,
   "id": "210b2271-51c1-4543-8d50-54c41e3b5e6e",
   "metadata": {},
   "outputs": [],
   "source": [
    "train_data['Previous Claims']= train_data['Previous Claims'].astype(float)\n",
    "test_data['Previous Claims']= test_data['Previous Claims'].astype(float)"
   ]
  },
  {
   "cell_type": "code",
   "execution_count": 101,
   "id": "81d18ebd-7780-4730-aaa4-c4ddc6b4a94a",
   "metadata": {},
   "outputs": [],
   "source": [
    "edu_dict= {\"High School\": 0, \"Bachelor's\": 1, \"Master's\": 2, \"PhD\": 3}\n",
    "occ_dict= {'Unemployed': 0, 'Self-Employed': 2, 'Employed': 1}\n",
    "loc_dict= {'Rural': 0, 'Suburban': 1, 'Urban': 2}\n",
    "policy_dict= {'Basic': 0, 'Comprehensive':1, 'Premium': 2}\n",
    "feed_dict= {'Poor': 0, 'Average': 1, 'Good': 2}\n",
    "exer_dict= {'Rarely': 0, 'Monthly': 1,'Weekly':2, 'Daily': 3}"
   ]
  },
  {
   "cell_type": "code",
   "execution_count": 102,
   "id": "68bfdcf6-3b45-4493-bee6-9e323f2dc0dc",
   "metadata": {},
   "outputs": [
    {
     "data": {
      "text/plain": [
       "Location\n",
       "Suburban    401542\n",
       "Rural       400947\n",
       "Urban       397511\n",
       "Name: count, dtype: int64"
      ]
     },
     "execution_count": 102,
     "metadata": {},
     "output_type": "execute_result"
    }
   ],
   "source": [
    "train_data['Location'].value_counts()"
   ]
  },
  {
   "cell_type": "code",
   "execution_count": 103,
   "id": "2775e4a6-37fe-4177-8676-82e82479208b",
   "metadata": {},
   "outputs": [],
   "source": [
    "train_data['Education Level']= train_data['Education Level'].map(edu_dict)\n",
    "train_data['Occupation']= train_data['Occupation'].map(occ_dict)\n",
    "train_data['Location']= train_data['Location'].map(loc_dict)\n",
    "train_data['Policy Type']= train_data['Policy Type'].map(policy_dict)\n",
    "train_data['Customer Feedback']= train_data['Customer Feedback'].map(feed_dict)\n",
    "train_data['Exercise Frequency']= train_data['Exercise Frequency'].map(exer_dict)\n"
   ]
  },
  {
   "cell_type": "code",
   "execution_count": 104,
   "id": "9af9b9ab-5042-4a7f-ba57-689ff28d16fb",
   "metadata": {},
   "outputs": [],
   "source": [
    "test_data['Education Level']= test_data['Education Level'].map(edu_dict)\n",
    "test_data['Occupation']= test_data['Occupation'].map(occ_dict)\n",
    "test_data['Location']= test_data['Location'].map(loc_dict)\n",
    "test_data['Policy Type']= test_data['Policy Type'].map(policy_dict)\n",
    "test_data['Customer Feedback']= test_data['Customer Feedback'].map(feed_dict)\n",
    "test_data['Exercise Frequency']= test_data['Exercise Frequency'].map(exer_dict)"
   ]
  },
  {
   "cell_type": "code",
   "execution_count": 105,
   "id": "479dd591-542e-405f-b2c0-246a52286adf",
   "metadata": {},
   "outputs": [],
   "source": [
    "# N-1 dummy encoding for the rest \n",
    "train_data= pd.get_dummies(train_data, dtype= int, drop_first= True)\n",
    "test_data= pd.get_dummies(test_data, dtype= int, drop_first= True)"
   ]
  },
  {
   "cell_type": "code",
   "execution_count": 106,
   "id": "a0711ae1-8859-41dd-a6a8-813e1d531ee5",
   "metadata": {},
   "outputs": [
    {
     "data": {
      "text/plain": [
       "Age                       0\n",
       "Annual Income             0\n",
       "Number of Dependents      0\n",
       "Education Level           0\n",
       "Occupation                0\n",
       "Health Score              0\n",
       "Location                  0\n",
       "Policy Type               0\n",
       "Previous Claims           0\n",
       "Vehicle Age               0\n",
       "Credit Score              0\n",
       "Insurance Duration        0\n",
       "Customer Feedback         0\n",
       "Exercise Frequency        0\n",
       "Premium Amount            0\n",
       "Policy_start_year         0\n",
       "Policy_start_month        0\n",
       "Gender_Male               0\n",
       "Marital Status_Married    0\n",
       "Marital Status_Single     0\n",
       "Smoking Status_Yes        0\n",
       "Property Type_Condo       0\n",
       "Property Type_House       0\n",
       "dtype: int64"
      ]
     },
     "execution_count": 106,
     "metadata": {},
     "output_type": "execute_result"
    }
   ],
   "source": [
    "train_data.isnull().sum()"
   ]
  },
  {
   "cell_type": "markdown",
   "id": "e37031b7-07c3-4719-b9f0-ef4e6b55f904",
   "metadata": {},
   "source": [
    "## Feature transforamtion"
   ]
  },
  {
   "cell_type": "code",
   "execution_count": 114,
   "id": "6998efe0-ad55-4498-95a5-1d900eea1c6c",
   "metadata": {},
   "outputs": [],
   "source": [
    "num_cols =['Age','Annual Income','Health Score ','Credit Score']"
   ]
  },
  {
   "cell_type": "code",
   "execution_count": 116,
   "id": "4bc347ba-afd2-4cac-bda2-9058a6a33a73",
   "metadata": {},
   "outputs": [
    {
     "data": {
      "image/png": "[encoded data removed]",
      "text/plain": [
       "<Figure size 640x480 with 1 Axes>"
      ]
     },
     "metadata": {},
     "output_type": "display_data"
    },
    {
     "data": {
      "image/png": "[encoded data removed]",
      "text/plain": [
       "<Figure size 640x480 with 1 Axes>"
      ]
     },
     "metadata": {},
     "output_type": "display_data"
    },
    {
     "ename": "ValueError",
     "evalue": "Could not interpret value `Health Score ` for `x`. An entry with this name does not appear in `data`.",
     "output_type": "error",
     "traceback": [
      "\u001b[0;31m---------------------------------------------------------------------------\u001b[0m",
      "\u001b[0;31mValueError\u001b[0m                                Traceback (most recent call last)",
      "Cell \u001b[0;32mIn[116], line 2\u001b[0m\n\u001b[1;32m      1\u001b[0m \u001b[38;5;28;01mfor\u001b[39;00m i \u001b[38;5;129;01min\u001b[39;00m num_cols:\n\u001b[0;32m----> 2\u001b[0m     sns\u001b[38;5;241m.\u001b[39mboxplot(data\u001b[38;5;241m=\u001b[39mtrain_data,x\u001b[38;5;241m=\u001b[39mi)\n\u001b[1;32m      3\u001b[0m     plt\u001b[38;5;241m.\u001b[39mshow()\n",
      "File \u001b[0;32m/opt/anaconda3/lib/python3.12/site-packages/seaborn/categorical.py:1597\u001b[0m, in \u001b[0;36mboxplot\u001b[0;34m(data, x, y, hue, order, hue_order, orient, color, palette, saturation, fill, dodge, width, gap, whis, linecolor, linewidth, fliersize, hue_norm, native_scale, log_scale, formatter, legend, ax, **kwargs)\u001b[0m\n\u001b[1;32m   1589\u001b[0m \u001b[38;5;28;01mdef\u001b[39;00m \u001b[38;5;21mboxplot\u001b[39m(\n\u001b[1;32m   1590\u001b[0m     data\u001b[38;5;241m=\u001b[39m\u001b[38;5;28;01mNone\u001b[39;00m, \u001b[38;5;241m*\u001b[39m, x\u001b[38;5;241m=\u001b[39m\u001b[38;5;28;01mNone\u001b[39;00m, y\u001b[38;5;241m=\u001b[39m\u001b[38;5;28;01mNone\u001b[39;00m, hue\u001b[38;5;241m=\u001b[39m\u001b[38;5;28;01mNone\u001b[39;00m, order\u001b[38;5;241m=\u001b[39m\u001b[38;5;28;01mNone\u001b[39;00m, hue_order\u001b[38;5;241m=\u001b[39m\u001b[38;5;28;01mNone\u001b[39;00m,\n\u001b[1;32m   1591\u001b[0m     orient\u001b[38;5;241m=\u001b[39m\u001b[38;5;28;01mNone\u001b[39;00m, color\u001b[38;5;241m=\u001b[39m\u001b[38;5;28;01mNone\u001b[39;00m, palette\u001b[38;5;241m=\u001b[39m\u001b[38;5;28;01mNone\u001b[39;00m, saturation\u001b[38;5;241m=\u001b[39m\u001b[38;5;241m.75\u001b[39m, fill\u001b[38;5;241m=\u001b[39m\u001b[38;5;28;01mTrue\u001b[39;00m,\n\u001b[0;32m   (...)\u001b[0m\n\u001b[1;32m   1594\u001b[0m     legend\u001b[38;5;241m=\u001b[39m\u001b[38;5;124m\"\u001b[39m\u001b[38;5;124mauto\u001b[39m\u001b[38;5;124m\"\u001b[39m, ax\u001b[38;5;241m=\u001b[39m\u001b[38;5;28;01mNone\u001b[39;00m, \u001b[38;5;241m*\u001b[39m\u001b[38;5;241m*\u001b[39mkwargs\n\u001b[1;32m   1595\u001b[0m ):\n\u001b[0;32m-> 1597\u001b[0m     p \u001b[38;5;241m=\u001b[39m _CategoricalPlotter(\n\u001b[1;32m   1598\u001b[0m         data\u001b[38;5;241m=\u001b[39mdata,\n\u001b[1;32m   1599\u001b[0m         variables\u001b[38;5;241m=\u001b[39m\u001b[38;5;28mdict\u001b[39m(x\u001b[38;5;241m=\u001b[39mx, y\u001b[38;5;241m=\u001b[39my, hue\u001b[38;5;241m=\u001b[39mhue),\n\u001b[1;32m   1600\u001b[0m         order\u001b[38;5;241m=\u001b[39morder,\n\u001b[1;32m   1601\u001b[0m         orient\u001b[38;5;241m=\u001b[39morient,\n\u001b[1;32m   1602\u001b[0m         color\u001b[38;5;241m=\u001b[39mcolor,\n\u001b[1;32m   1603\u001b[0m         legend\u001b[38;5;241m=\u001b[39mlegend,\n\u001b[1;32m   1604\u001b[0m     )\n\u001b[1;32m   1606\u001b[0m     \u001b[38;5;28;01mif\u001b[39;00m ax \u001b[38;5;129;01mis\u001b[39;00m \u001b[38;5;28;01mNone\u001b[39;00m:\n\u001b[1;32m   1607\u001b[0m         ax \u001b[38;5;241m=\u001b[39m plt\u001b[38;5;241m.\u001b[39mgca()\n",
      "File \u001b[0;32m/opt/anaconda3/lib/python3.12/site-packages/seaborn/categorical.py:67\u001b[0m, in \u001b[0;36m_CategoricalPlotter.__init__\u001b[0;34m(self, data, variables, order, orient, require_numeric, color, legend)\u001b[0m\n\u001b[1;32m     56\u001b[0m \u001b[38;5;28;01mdef\u001b[39;00m \u001b[38;5;21m__init__\u001b[39m(\n\u001b[1;32m     57\u001b[0m     \u001b[38;5;28mself\u001b[39m,\n\u001b[1;32m     58\u001b[0m     data\u001b[38;5;241m=\u001b[39m\u001b[38;5;28;01mNone\u001b[39;00m,\n\u001b[0;32m   (...)\u001b[0m\n\u001b[1;32m     64\u001b[0m     legend\u001b[38;5;241m=\u001b[39m\u001b[38;5;124m\"\u001b[39m\u001b[38;5;124mauto\u001b[39m\u001b[38;5;124m\"\u001b[39m,\n\u001b[1;32m     65\u001b[0m ):\n\u001b[0;32m---> 67\u001b[0m     \u001b[38;5;28msuper\u001b[39m()\u001b[38;5;241m.\u001b[39m\u001b[38;5;21m__init__\u001b[39m(data\u001b[38;5;241m=\u001b[39mdata, variables\u001b[38;5;241m=\u001b[39mvariables)\n\u001b[1;32m     69\u001b[0m     \u001b[38;5;66;03m# This method takes care of some bookkeeping that is necessary because the\u001b[39;00m\n\u001b[1;32m     70\u001b[0m     \u001b[38;5;66;03m# original categorical plots (prior to the 2021 refactor) had some rules that\u001b[39;00m\n\u001b[1;32m     71\u001b[0m     \u001b[38;5;66;03m# don't fit exactly into VectorPlotter logic. It may be wise to have a second\u001b[39;00m\n\u001b[0;32m   (...)\u001b[0m\n\u001b[1;32m     76\u001b[0m     \u001b[38;5;66;03m# default VectorPlotter rules. If we do decide to make orient part of the\u001b[39;00m\n\u001b[1;32m     77\u001b[0m     \u001b[38;5;66;03m# _base variable assignment, we'll want to figure out how to express that.\u001b[39;00m\n\u001b[1;32m     78\u001b[0m     \u001b[38;5;28;01mif\u001b[39;00m \u001b[38;5;28mself\u001b[39m\u001b[38;5;241m.\u001b[39minput_format \u001b[38;5;241m==\u001b[39m \u001b[38;5;124m\"\u001b[39m\u001b[38;5;124mwide\u001b[39m\u001b[38;5;124m\"\u001b[39m \u001b[38;5;129;01mand\u001b[39;00m orient \u001b[38;5;129;01min\u001b[39;00m [\u001b[38;5;124m\"\u001b[39m\u001b[38;5;124mh\u001b[39m\u001b[38;5;124m\"\u001b[39m, \u001b[38;5;124m\"\u001b[39m\u001b[38;5;124my\u001b[39m\u001b[38;5;124m\"\u001b[39m]:\n",
      "File \u001b[0;32m/opt/anaconda3/lib/python3.12/site-packages/seaborn/_base.py:634\u001b[0m, in \u001b[0;36mVectorPlotter.__init__\u001b[0;34m(self, data, variables)\u001b[0m\n\u001b[1;32m    629\u001b[0m \u001b[38;5;66;03m# var_ordered is relevant only for categorical axis variables, and may\u001b[39;00m\n\u001b[1;32m    630\u001b[0m \u001b[38;5;66;03m# be better handled by an internal axis information object that tracks\u001b[39;00m\n\u001b[1;32m    631\u001b[0m \u001b[38;5;66;03m# such information and is set up by the scale_* methods. The analogous\u001b[39;00m\n\u001b[1;32m    632\u001b[0m \u001b[38;5;66;03m# information for numeric axes would be information about log scales.\u001b[39;00m\n\u001b[1;32m    633\u001b[0m \u001b[38;5;28mself\u001b[39m\u001b[38;5;241m.\u001b[39m_var_ordered \u001b[38;5;241m=\u001b[39m {\u001b[38;5;124m\"\u001b[39m\u001b[38;5;124mx\u001b[39m\u001b[38;5;124m\"\u001b[39m: \u001b[38;5;28;01mFalse\u001b[39;00m, \u001b[38;5;124m\"\u001b[39m\u001b[38;5;124my\u001b[39m\u001b[38;5;124m\"\u001b[39m: \u001b[38;5;28;01mFalse\u001b[39;00m}  \u001b[38;5;66;03m# alt., used DefaultDict\u001b[39;00m\n\u001b[0;32m--> 634\u001b[0m \u001b[38;5;28mself\u001b[39m\u001b[38;5;241m.\u001b[39massign_variables(data, variables)\n\u001b[1;32m    636\u001b[0m \u001b[38;5;66;03m# TODO Lots of tests assume that these are called to initialize the\u001b[39;00m\n\u001b[1;32m    637\u001b[0m \u001b[38;5;66;03m# mappings to default values on class initialization. I'd prefer to\u001b[39;00m\n\u001b[1;32m    638\u001b[0m \u001b[38;5;66;03m# move away from that and only have a mapping when explicitly called.\u001b[39;00m\n\u001b[1;32m    639\u001b[0m \u001b[38;5;28;01mfor\u001b[39;00m var \u001b[38;5;129;01min\u001b[39;00m [\u001b[38;5;124m\"\u001b[39m\u001b[38;5;124mhue\u001b[39m\u001b[38;5;124m\"\u001b[39m, \u001b[38;5;124m\"\u001b[39m\u001b[38;5;124msize\u001b[39m\u001b[38;5;124m\"\u001b[39m, \u001b[38;5;124m\"\u001b[39m\u001b[38;5;124mstyle\u001b[39m\u001b[38;5;124m\"\u001b[39m]:\n",
      "File \u001b[0;32m/opt/anaconda3/lib/python3.12/site-packages/seaborn/_base.py:679\u001b[0m, in \u001b[0;36mVectorPlotter.assign_variables\u001b[0;34m(self, data, variables)\u001b[0m\n\u001b[1;32m    674\u001b[0m \u001b[38;5;28;01melse\u001b[39;00m:\n\u001b[1;32m    675\u001b[0m     \u001b[38;5;66;03m# When dealing with long-form input, use the newer PlotData\u001b[39;00m\n\u001b[1;32m    676\u001b[0m     \u001b[38;5;66;03m# object (internal but introduced for the objects interface)\u001b[39;00m\n\u001b[1;32m    677\u001b[0m     \u001b[38;5;66;03m# to centralize / standardize data consumption logic.\u001b[39;00m\n\u001b[1;32m    678\u001b[0m     \u001b[38;5;28mself\u001b[39m\u001b[38;5;241m.\u001b[39minput_format \u001b[38;5;241m=\u001b[39m \u001b[38;5;124m\"\u001b[39m\u001b[38;5;124mlong\u001b[39m\u001b[38;5;124m\"\u001b[39m\n\u001b[0;32m--> 679\u001b[0m     plot_data \u001b[38;5;241m=\u001b[39m PlotData(data, variables)\n\u001b[1;32m    680\u001b[0m     frame \u001b[38;5;241m=\u001b[39m plot_data\u001b[38;5;241m.\u001b[39mframe\n\u001b[1;32m    681\u001b[0m     names \u001b[38;5;241m=\u001b[39m plot_data\u001b[38;5;241m.\u001b[39mnames\n",
      "File \u001b[0;32m/opt/anaconda3/lib/python3.12/site-packages/seaborn/_core/data.py:58\u001b[0m, in \u001b[0;36mPlotData.__init__\u001b[0;34m(self, data, variables)\u001b[0m\n\u001b[1;32m     51\u001b[0m \u001b[38;5;28;01mdef\u001b[39;00m \u001b[38;5;21m__init__\u001b[39m(\n\u001b[1;32m     52\u001b[0m     \u001b[38;5;28mself\u001b[39m,\n\u001b[1;32m     53\u001b[0m     data: DataSource,\n\u001b[1;32m     54\u001b[0m     variables: \u001b[38;5;28mdict\u001b[39m[\u001b[38;5;28mstr\u001b[39m, VariableSpec],\n\u001b[1;32m     55\u001b[0m ):\n\u001b[1;32m     57\u001b[0m     data \u001b[38;5;241m=\u001b[39m handle_data_source(data)\n\u001b[0;32m---> 58\u001b[0m     frame, names, ids \u001b[38;5;241m=\u001b[39m \u001b[38;5;28mself\u001b[39m\u001b[38;5;241m.\u001b[39m_assign_variables(data, variables)\n\u001b[1;32m     60\u001b[0m     \u001b[38;5;28mself\u001b[39m\u001b[38;5;241m.\u001b[39mframe \u001b[38;5;241m=\u001b[39m frame\n\u001b[1;32m     61\u001b[0m     \u001b[38;5;28mself\u001b[39m\u001b[38;5;241m.\u001b[39mnames \u001b[38;5;241m=\u001b[39m names\n",
      "File \u001b[0;32m/opt/anaconda3/lib/python3.12/site-packages/seaborn/_core/data.py:232\u001b[0m, in \u001b[0;36mPlotData._assign_variables\u001b[0;34m(self, data, variables)\u001b[0m\n\u001b[1;32m    230\u001b[0m     \u001b[38;5;28;01melse\u001b[39;00m:\n\u001b[1;32m    231\u001b[0m         err \u001b[38;5;241m+\u001b[39m\u001b[38;5;241m=\u001b[39m \u001b[38;5;124m\"\u001b[39m\u001b[38;5;124mAn entry with this name does not appear in `data`.\u001b[39m\u001b[38;5;124m\"\u001b[39m\n\u001b[0;32m--> 232\u001b[0m     \u001b[38;5;28;01mraise\u001b[39;00m \u001b[38;5;167;01mValueError\u001b[39;00m(err)\n\u001b[1;32m    234\u001b[0m \u001b[38;5;28;01melse\u001b[39;00m:\n\u001b[1;32m    235\u001b[0m \n\u001b[1;32m    236\u001b[0m     \u001b[38;5;66;03m# Otherwise, assume the value somehow represents data\u001b[39;00m\n\u001b[1;32m    237\u001b[0m \n\u001b[1;32m    238\u001b[0m     \u001b[38;5;66;03m# Ignore empty data structures\u001b[39;00m\n\u001b[1;32m    239\u001b[0m     \u001b[38;5;28;01mif\u001b[39;00m \u001b[38;5;28misinstance\u001b[39m(val, Sized) \u001b[38;5;129;01mand\u001b[39;00m \u001b[38;5;28mlen\u001b[39m(val) \u001b[38;5;241m==\u001b[39m \u001b[38;5;241m0\u001b[39m:\n",
      "\u001b[0;31mValueError\u001b[0m: Could not interpret value `Health Score ` for `x`. An entry with this name does not appear in `data`."
     ]
    }
   ],
   "source": [
    "for i in num_cols:\n",
    "    sns.boxplot(data=train_data,x=i)\n",
    "    plt.show()"
   ]
  },
  {
   "cell_type": "markdown",
   "id": "a3630e41-c61f-4bd9-838b-3a2ed19cbc12",
   "metadata": {},
   "source": [
    "## Modelling"
   ]
  },
  {
   "cell_type": "code",
   "execution_count": 143,
   "id": "c5d71d47-f229-42c5-8b8e-9cec988ffead",
   "metadata": {},
   "outputs": [],
   "source": [
    "y = train_data['Premium Amount']\n",
    "x = train_data.drop(columns = 'Premium Amount')"
   ]
  },
  {
   "cell_type": "code",
   "execution_count": 126,
   "id": "600a4090-7017-443d-ba29-29ef1c4e2a1e",
   "metadata": {},
   "outputs": [],
   "source": [
    "x_train,x_val,y_train,y_val = train_test_split(x,y,train_size=1100000,random_state=2)"
   ]
  },
  {
   "cell_type": "code",
   "execution_count": 128,
   "id": "1ebd1331-4834-4f34-989e-2819a8998564",
   "metadata": {},
   "outputs": [
    {
     "data": {
      "text/plain": [
       "((1100000, 22), (100000, 22), (1100000,), (100000,))"
      ]
     },
     "execution_count": 128,
     "metadata": {},
     "output_type": "execute_result"
    }
   ],
   "source": [
    "x_train.shape,x_val.shape,y_train.shape,y_val.shape"
   ]
  },
  {
   "cell_type": "code",
   "execution_count": null,
   "id": "266ab2e7-f38b-448b-adbf-4745c206a66a",
   "metadata": {},
   "outputs": [],
   "source": []
  },
  {
   "cell_type": "code",
   "execution_count": 131,
   "id": "9d2b9e13-9bd8-4fae-8266-cf8139924829",
   "metadata": {},
   "outputs": [],
   "source": [
    "def model_validation(model, xtrain, ytrain, xtest, ytest):\n",
    "    m = model\n",
    "    m.fit(xtrain, ytrain)\n",
    "    pred = m.predict(xtest)\n",
    "    print('R2:', r2_score(ytest, pred))\n",
    "    print('MSE:', mean_absolute_error(ytest, pred))\n",
    "    print('RMSE:', (mean_squared_log_error(ytest, pred)) ** 0.5)\n",
    "    print('MSLE:', mean_squared_log_error(ytest, pred))\n",
    "    print('RMSLE:', (mean_squared_log_error(ytest,pred))**0.5)\n",
    "\n"
   ]
  },
  {
   "cell_type": "code",
   "execution_count": 133,
   "id": "2b541104-412d-4d81-b170-186924e040fc",
   "metadata": {},
   "outputs": [
    {
     "name": "stdout",
     "output_type": "stream",
     "text": [
      "R2: 0.027316677810406476\n",
      "MSE: 652.739795831442\n",
      "RMSE: 1.157534225344876\n",
      "MSLE: 1.3398854828447622\n",
      "RMSLE: 1.157534225344876\n"
     ]
    }
   ],
   "source": [
    "model_validation(DecisionTreeRegressor(max_depth=5),x_train,y_train,x_val,y_val)"
   ]
  },
  {
   "cell_type": "code",
   "execution_count": 134,
   "id": "f83f5df4-b44c-4e45-941e-b3347ffeaf72",
   "metadata": {},
   "outputs": [
    {
     "name": "stdout",
     "output_type": "stream",
     "text": [
      "R2: 0.04147521845901181\n",
      "MSE: 643.5569277922064\n",
      "RMSE: 1.1462884700600398\n",
      "MSLE: 1.313977256592587\n",
      "RMSLE: 1.1462884700600398\n"
     ]
    }
   ],
   "source": [
    "model_validation(RandomForestRegressor(n_estimators=150,max_depth=7),x_train,y_train,x_val,y_val)"
   ]
  },
  {
   "cell_type": "code",
   "execution_count": 135,
   "id": "bdf69836-031e-4540-a758-3a79d0e1be32",
   "metadata": {},
   "outputs": [
    {
     "name": "stdout",
     "output_type": "stream",
     "text": [
      "R2: 0.035929105410292594\n",
      "MSE: 649.0367521044922\n",
      "RMSE: 1.1525910256008065\n",
      "MSLE: 1.3284660722955188\n",
      "RMSLE: 1.1525910256008065\n"
     ]
    }
   ],
   "source": [
    "model_validation(XGBRFRegressor(n_estimators =150,gamma=2),x_train,y_train,x_val,y_val)"
   ]
  },
  {
   "cell_type": "code",
   "execution_count": 136,
   "id": "b1f00424-dda7-458f-b281-00f92260f320",
   "metadata": {},
   "outputs": [],
   "source": [
    "from lightgbm import LGBMRegressor\n"
   ]
  },
  {
   "cell_type": "code",
   "execution_count": 137,
   "id": "1866869a-6855-421d-ac9e-27b82941a97d",
   "metadata": {},
   "outputs": [
    {
     "name": "stdout",
     "output_type": "stream",
     "text": [
      "[LightGBM] [Warning] Found whitespace in feature_names, replace with underlines\n",
      "[LightGBM] [Info] Auto-choosing row-wise multi-threading, the overhead of testing was 0.013992 seconds.\n",
      "You can set `force_row_wise=true` to remove the overhead.\n",
      "And if memory is not enough, you can set `force_col_wise=true`.\n",
      "[LightGBM] [Info] Total Bins 905\n",
      "[LightGBM] [Info] Number of data points in the train set: 1100000, number of used features: 22\n",
      "[LightGBM] [Info] Start training from score 1102.518111\n",
      "R2: 0.04861175703665577\n",
      "MSE: 642.2998623995726\n",
      "RMSE: 1.1431276877292245\n",
      "MSLE: 1.3067409104531633\n",
      "RMSLE: 1.1431276877292245\n"
     ]
    }
   ],
   "source": [
    "model_validation(LGBMRegressor(n_estimators=250,min_child_weight=1,learning_rate=0.01),x_train,y_train,x_val,y_val)"
   ]
  },
  {
   "cell_type": "markdown",
   "id": "9fac8f53-1fee-4283-833c-20c781a56c1e",
   "metadata": {},
   "source": [
    "## Submissions"
   ]
  },
  {
   "cell_type": "code",
   "execution_count": 145,
   "id": "ee0ad654-06f0-49c5-8261-0a82d5eaf501",
   "metadata": {},
   "outputs": [],
   "source": [
    "final_model = LGBMRegressor(n_estimators=270,min_child_weight=0.1,learning_rate=0.01)"
   ]
  },
  {
   "cell_type": "code",
   "execution_count": 147,
   "id": "651aa574-74da-4d9a-863c-c1eae13e13c6",
   "metadata": {},
   "outputs": [
    {
     "name": "stdout",
     "output_type": "stream",
     "text": [
      "[LightGBM] [Warning] Found whitespace in feature_names, replace with underlines\n",
      "[LightGBM] [Info] Auto-choosing row-wise multi-threading, the overhead of testing was 0.013465 seconds.\n",
      "You can set `force_row_wise=true` to remove the overhead.\n",
      "And if memory is not enough, you can set `force_col_wise=true`.\n",
      "[LightGBM] [Info] Total Bins 903\n",
      "[LightGBM] [Info] Number of data points in the train set: 1200000, number of used features: 22\n",
      "[LightGBM] [Info] Start training from score 1102.544822\n"
     ]
    },
    {
     "data": {
      "text/html": [
       "<style>#sk-container-id-1 {\n",
       "  /* Definition of color scheme common for light and dark mode */\n",
       "  --sklearn-color-text: black;\n",
       "  --sklearn-color-line: gray;\n",
       "  /* Definition of color scheme for unfitted estimators */\n",
       "  --sklearn-color-unfitted-level-0: #fff5e6;\n",
       "  --sklearn-color-unfitted-level-1: #f6e4d2;\n",
       "  --sklearn-color-unfitted-level-2: #ffe0b3;\n",
       "  --sklearn-color-unfitted-level-3: chocolate;\n",
       "  /* Definition of color scheme for fitted estimators */\n",
       "  --sklearn-color-fitted-level-0: #f0f8ff;\n",
       "  --sklearn-color-fitted-level-1: #d4ebff;\n",
       "  --sklearn-color-fitted-level-2: #b3dbfd;\n",
       "  --sklearn-color-fitted-level-3: cornflowerblue;\n",
       "\n",
       "  /* Specific color for light theme */\n",
       "  --sklearn-color-text-on-default-background: var(--sg-text-color, var(--theme-code-foreground, var(--jp-content-font-color1, black)));\n",
       "  --sklearn-color-background: var(--sg-background-color, var(--theme-background, var(--jp-layout-color0, white)));\n",
       "  --sklearn-color-border-box: var(--sg-text-color, var(--theme-code-foreground, var(--jp-content-font-color1, black)));\n",
       "  --sklearn-color-icon: #696969;\n",
       "\n",
       "  @media (prefers-color-scheme: dark) {\n",
       "    /* Redefinition of color scheme for dark theme */\n",
       "    --sklearn-color-text-on-default-background: var(--sg-text-color, var(--theme-code-foreground, var(--jp-content-font-color1, white)));\n",
       "    --sklearn-color-background: var(--sg-background-color, var(--theme-background, var(--jp-layout-color0, #111)));\n",
       "    --sklearn-color-border-box: var(--sg-text-color, var(--theme-code-foreground, var(--jp-content-font-color1, white)));\n",
       "    --sklearn-color-icon: #878787;\n",
       "  }\n",
       "}\n",
       "\n",
       "#sk-container-id-1 {\n",
       "  color: var(--sklearn-color-text);\n",
       "}\n",
       "\n",
       "#sk-container-id-1 pre {\n",
       "  padding: 0;\n",
       "}\n",
       "\n",
       "#sk-container-id-1 input.sk-hidden--visually {\n",
       "  border: 0;\n",
       "  clip: rect(1px 1px 1px 1px);\n",
       "  clip: rect(1px, 1px, 1px, 1px);\n",
       "  height: 1px;\n",
       "  margin: -1px;\n",
       "  overflow: hidden;\n",
       "  padding: 0;\n",
       "  position: absolute;\n",
       "  width: 1px;\n",
       "}\n",
       "\n",
       "#sk-container-id-1 div.sk-dashed-wrapped {\n",
       "  border: 1px dashed var(--sklearn-color-line);\n",
       "  margin: 0 0.4em 0.5em 0.4em;\n",
       "  box-sizing: border-box;\n",
       "  padding-bottom: 0.4em;\n",
       "  background-color: var(--sklearn-color-background);\n",
       "}\n",
       "\n",
       "#sk-container-id-1 div.sk-container {\n",
       "  /* jupyter's `normalize.less` sets `[hidden] { display: none; }`\n",
       "     but bootstrap.min.css set `[hidden] { display: none !important; }`\n",
       "     so we also need the `!important` here to be able to override the\n",
       "     default hidden behavior on the sphinx rendered scikit-learn.org.\n",
       "     See: https://github.com/scikit-learn/scikit-learn/issues/21755 */\n",
       "  display: inline-block !important;\n",
       "  position: relative;\n",
       "}\n",
       "\n",
       "#sk-container-id-1 div.sk-text-repr-fallback {\n",
       "  display: none;\n",
       "}\n",
       "\n",
       "div.sk-parallel-item,\n",
       "div.sk-serial,\n",
       "div.sk-item {\n",
       "  /* draw centered vertical line to link estimators */\n",
       "  background-image: linear-gradient(var(--sklearn-color-text-on-default-background), var(--sklearn-color-text-on-default-background));\n",
       "  background-size: 2px 100%;\n",
       "  background-repeat: no-repeat;\n",
       "  background-position: center center;\n",
       "}\n",
       "\n",
       "/* Parallel-specific style estimator block */\n",
       "\n",
       "#sk-container-id-1 div.sk-parallel-item::after {\n",
       "  content: \"\";\n",
       "  width: 100%;\n",
       "  border-bottom: 2px solid var(--sklearn-color-text-on-default-background);\n",
       "  flex-grow: 1;\n",
       "}\n",
       "\n",
       "#sk-container-id-1 div.sk-parallel {\n",
       "  display: flex;\n",
       "  align-items: stretch;\n",
       "  justify-content: center;\n",
       "  background-color: var(--sklearn-color-background);\n",
       "  position: relative;\n",
       "}\n",
       "\n",
       "#sk-container-id-1 div.sk-parallel-item {\n",
       "  display: flex;\n",
       "  flex-direction: column;\n",
       "}\n",
       "\n",
       "#sk-container-id-1 div.sk-parallel-item:first-child::after {\n",
       "  align-self: flex-end;\n",
       "  width: 50%;\n",
       "}\n",
       "\n",
       "#sk-container-id-1 div.sk-parallel-item:last-child::after {\n",
       "  align-self: flex-start;\n",
       "  width: 50%;\n",
       "}\n",
       "\n",
       "#sk-container-id-1 div.sk-parallel-item:only-child::after {\n",
       "  width: 0;\n",
       "}\n",
       "\n",
       "/* Serial-specific style estimator block */\n",
       "\n",
       "#sk-container-id-1 div.sk-serial {\n",
       "  display: flex;\n",
       "  flex-direction: column;\n",
       "  align-items: center;\n",
       "  background-color: var(--sklearn-color-background);\n",
       "  padding-right: 1em;\n",
       "  padding-left: 1em;\n",
       "}\n",
       "\n",
       "\n",
       "/* Toggleable style: style used for estimator/Pipeline/ColumnTransformer box that is\n",
       "clickable and can be expanded/collapsed.\n",
       "- Pipeline and ColumnTransformer use this feature and define the default style\n",
       "- Estimators will overwrite some part of the style using the `sk-estimator` class\n",
       "*/\n",
       "\n",
       "/* Pipeline and ColumnTransformer style (default) */\n",
       "\n",
       "#sk-container-id-1 div.sk-toggleable {\n",
       "  /* Default theme specific background. It is overwritten whether we have a\n",
       "  specific estimator or a Pipeline/ColumnTransformer */\n",
       "  background-color: var(--sklearn-color-background);\n",
       "}\n",
       "\n",
       "/* Toggleable label */\n",
       "#sk-container-id-1 label.sk-toggleable__label {\n",
       "  cursor: pointer;\n",
       "  display: block;\n",
       "  width: 100%;\n",
       "  margin-bottom: 0;\n",
       "  padding: 0.5em;\n",
       "  box-sizing: border-box;\n",
       "  text-align: center;\n",
       "}\n",
       "\n",
       "#sk-container-id-1 label.sk-toggleable__label-arrow:before {\n",
       "  /* Arrow on the left of the label */\n",
       "  content: \"▸\";\n",
       "  float: left;\n",
       "  margin-right: 0.25em;\n",
       "  color: var(--sklearn-color-icon);\n",
       "}\n",
       "\n",
       "#sk-container-id-1 label.sk-toggleable__label-arrow:hover:before {\n",
       "  color: var(--sklearn-color-text);\n",
       "}\n",
       "\n",
       "/* Toggleable content - dropdown */\n",
       "\n",
       "#sk-container-id-1 div.sk-toggleable__content {\n",
       "  max-height: 0;\n",
       "  max-width: 0;\n",
       "  overflow: hidden;\n",
       "  text-align: left;\n",
       "  /* unfitted */\n",
       "  background-color: var(--sklearn-color-unfitted-level-0);\n",
       "}\n",
       "\n",
       "#sk-container-id-1 div.sk-toggleable__content.fitted {\n",
       "  /* fitted */\n",
       "  background-color: var(--sklearn-color-fitted-level-0);\n",
       "}\n",
       "\n",
       "#sk-container-id-1 div.sk-toggleable__content pre {\n",
       "  margin: 0.2em;\n",
       "  border-radius: 0.25em;\n",
       "  color: var(--sklearn-color-text);\n",
       "  /* unfitted */\n",
       "  background-color: var(--sklearn-color-unfitted-level-0);\n",
       "}\n",
       "\n",
       "#sk-container-id-1 div.sk-toggleable__content.fitted pre {\n",
       "  /* unfitted */\n",
       "  background-color: var(--sklearn-color-fitted-level-0);\n",
       "}\n",
       "\n",
       "#sk-container-id-1 input.sk-toggleable__control:checked~div.sk-toggleable__content {\n",
       "  /* Expand drop-down */\n",
       "  max-height: 200px;\n",
       "  max-width: 100%;\n",
       "  overflow: auto;\n",
       "}\n",
       "\n",
       "#sk-container-id-1 input.sk-toggleable__control:checked~label.sk-toggleable__label-arrow:before {\n",
       "  content: \"▾\";\n",
       "}\n",
       "\n",
       "/* Pipeline/ColumnTransformer-specific style */\n",
       "\n",
       "#sk-container-id-1 div.sk-label input.sk-toggleable__control:checked~label.sk-toggleable__label {\n",
       "  color: var(--sklearn-color-text);\n",
       "  background-color: var(--sklearn-color-unfitted-level-2);\n",
       "}\n",
       "\n",
       "#sk-container-id-1 div.sk-label.fitted input.sk-toggleable__control:checked~label.sk-toggleable__label {\n",
       "  background-color: var(--sklearn-color-fitted-level-2);\n",
       "}\n",
       "\n",
       "/* Estimator-specific style */\n",
       "\n",
       "/* Colorize estimator box */\n",
       "#sk-container-id-1 div.sk-estimator input.sk-toggleable__control:checked~label.sk-toggleable__label {\n",
       "  /* unfitted */\n",
       "  background-color: var(--sklearn-color-unfitted-level-2);\n",
       "}\n",
       "\n",
       "#sk-container-id-1 div.sk-estimator.fitted input.sk-toggleable__control:checked~label.sk-toggleable__label {\n",
       "  /* fitted */\n",
       "  background-color: var(--sklearn-color-fitted-level-2);\n",
       "}\n",
       "\n",
       "#sk-container-id-1 div.sk-label label.sk-toggleable__label,\n",
       "#sk-container-id-1 div.sk-label label {\n",
       "  /* The background is the default theme color */\n",
       "  color: var(--sklearn-color-text-on-default-background);\n",
       "}\n",
       "\n",
       "/* On hover, darken the color of the background */\n",
       "#sk-container-id-1 div.sk-label:hover label.sk-toggleable__label {\n",
       "  color: var(--sklearn-color-text);\n",
       "  background-color: var(--sklearn-color-unfitted-level-2);\n",
       "}\n",
       "\n",
       "/* Label box, darken color on hover, fitted */\n",
       "#sk-container-id-1 div.sk-label.fitted:hover label.sk-toggleable__label.fitted {\n",
       "  color: var(--sklearn-color-text);\n",
       "  background-color: var(--sklearn-color-fitted-level-2);\n",
       "}\n",
       "\n",
       "/* Estimator label */\n",
       "\n",
       "#sk-container-id-1 div.sk-label label {\n",
       "  font-family: monospace;\n",
       "  font-weight: bold;\n",
       "  display: inline-block;\n",
       "  line-height: 1.2em;\n",
       "}\n",
       "\n",
       "#sk-container-id-1 div.sk-label-container {\n",
       "  text-align: center;\n",
       "}\n",
       "\n",
       "/* Estimator-specific */\n",
       "#sk-container-id-1 div.sk-estimator {\n",
       "  font-family: monospace;\n",
       "  border: 1px dotted var(--sklearn-color-border-box);\n",
       "  border-radius: 0.25em;\n",
       "  box-sizing: border-box;\n",
       "  margin-bottom: 0.5em;\n",
       "  /* unfitted */\n",
       "  background-color: var(--sklearn-color-unfitted-level-0);\n",
       "}\n",
       "\n",
       "#sk-container-id-1 div.sk-estimator.fitted {\n",
       "  /* fitted */\n",
       "  background-color: var(--sklearn-color-fitted-level-0);\n",
       "}\n",
       "\n",
       "/* on hover */\n",
       "#sk-container-id-1 div.sk-estimator:hover {\n",
       "  /* unfitted */\n",
       "  background-color: var(--sklearn-color-unfitted-level-2);\n",
       "}\n",
       "\n",
       "#sk-container-id-1 div.sk-estimator.fitted:hover {\n",
       "  /* fitted */\n",
       "  background-color: var(--sklearn-color-fitted-level-2);\n",
       "}\n",
       "\n",
       "/* Specification for estimator info (e.g. \"i\" and \"?\") */\n",
       "\n",
       "/* Common style for \"i\" and \"?\" */\n",
       "\n",
       ".sk-estimator-doc-link,\n",
       "a:link.sk-estimator-doc-link,\n",
       "a:visited.sk-estimator-doc-link {\n",
       "  float: right;\n",
       "  font-size: smaller;\n",
       "  line-height: 1em;\n",
       "  font-family: monospace;\n",
       "  background-color: var(--sklearn-color-background);\n",
       "  border-radius: 1em;\n",
       "  height: 1em;\n",
       "  width: 1em;\n",
       "  text-decoration: none !important;\n",
       "  margin-left: 1ex;\n",
       "  /* unfitted */\n",
       "  border: var(--sklearn-color-unfitted-level-1) 1pt solid;\n",
       "  color: var(--sklearn-color-unfitted-level-1);\n",
       "}\n",
       "\n",
       ".sk-estimator-doc-link.fitted,\n",
       "a:link.sk-estimator-doc-link.fitted,\n",
       "a:visited.sk-estimator-doc-link.fitted {\n",
       "  /* fitted */\n",
       "  border: var(--sklearn-color-fitted-level-1) 1pt solid;\n",
       "  color: var(--sklearn-color-fitted-level-1);\n",
       "}\n",
       "\n",
       "/* On hover */\n",
       "div.sk-estimator:hover .sk-estimator-doc-link:hover,\n",
       ".sk-estimator-doc-link:hover,\n",
       "div.sk-label-container:hover .sk-estimator-doc-link:hover,\n",
       ".sk-estimator-doc-link:hover {\n",
       "  /* unfitted */\n",
       "  background-color: var(--sklearn-color-unfitted-level-3);\n",
       "  color: var(--sklearn-color-background);\n",
       "  text-decoration: none;\n",
       "}\n",
       "\n",
       "div.sk-estimator.fitted:hover .sk-estimator-doc-link.fitted:hover,\n",
       ".sk-estimator-doc-link.fitted:hover,\n",
       "div.sk-label-container:hover .sk-estimator-doc-link.fitted:hover,\n",
       ".sk-estimator-doc-link.fitted:hover {\n",
       "  /* fitted */\n",
       "  background-color: var(--sklearn-color-fitted-level-3);\n",
       "  color: var(--sklearn-color-background);\n",
       "  text-decoration: none;\n",
       "}\n",
       "\n",
       "/* Span, style for the box shown on hovering the info icon */\n",
       ".sk-estimator-doc-link span {\n",
       "  display: none;\n",
       "  z-index: 9999;\n",
       "  position: relative;\n",
       "  font-weight: normal;\n",
       "  right: .2ex;\n",
       "  padding: .5ex;\n",
       "  margin: .5ex;\n",
       "  width: min-content;\n",
       "  min-width: 20ex;\n",
       "  max-width: 50ex;\n",
       "  color: var(--sklearn-color-text);\n",
       "  box-shadow: 2pt 2pt 4pt #999;\n",
       "  /* unfitted */\n",
       "  background: var(--sklearn-color-unfitted-level-0);\n",
       "  border: .5pt solid var(--sklearn-color-unfitted-level-3);\n",
       "}\n",
       "\n",
       ".sk-estimator-doc-link.fitted span {\n",
       "  /* fitted */\n",
       "  background: var(--sklearn-color-fitted-level-0);\n",
       "  border: var(--sklearn-color-fitted-level-3);\n",
       "}\n",
       "\n",
       ".sk-estimator-doc-link:hover span {\n",
       "  display: block;\n",
       "}\n",
       "\n",
       "/* \"?\"-specific style due to the `<a>` HTML tag */\n",
       "\n",
       "#sk-container-id-1 a.estimator_doc_link {\n",
       "  float: right;\n",
       "  font-size: 1rem;\n",
       "  line-height: 1em;\n",
       "  font-family: monospace;\n",
       "  background-color: var(--sklearn-color-background);\n",
       "  border-radius: 1rem;\n",
       "  height: 1rem;\n",
       "  width: 1rem;\n",
       "  text-decoration: none;\n",
       "  /* unfitted */\n",
       "  color: var(--sklearn-color-unfitted-level-1);\n",
       "  border: var(--sklearn-color-unfitted-level-1) 1pt solid;\n",
       "}\n",
       "\n",
       "#sk-container-id-1 a.estimator_doc_link.fitted {\n",
       "  /* fitted */\n",
       "  border: var(--sklearn-color-fitted-level-1) 1pt solid;\n",
       "  color: var(--sklearn-color-fitted-level-1);\n",
       "}\n",
       "\n",
       "/* On hover */\n",
       "#sk-container-id-1 a.estimator_doc_link:hover {\n",
       "  /* unfitted */\n",
       "  background-color: var(--sklearn-color-unfitted-level-3);\n",
       "  color: var(--sklearn-color-background);\n",
       "  text-decoration: none;\n",
       "}\n",
       "\n",
       "#sk-container-id-1 a.estimator_doc_link.fitted:hover {\n",
       "  /* fitted */\n",
       "  background-color: var(--sklearn-color-fitted-level-3);\n",
       "}\n",
       "</style><div id=\"sk-container-id-1\" class=\"sk-top-container\"><div class=\"sk-text-repr-fallback\"><pre>LGBMRegressor(learning_rate=0.01, min_child_weight=0.1, n_estimators=270)</pre><b>In a Jupyter environment, please rerun this cell to show the HTML representation or trust the notebook. <br />On GitHub, the HTML representation is unable to render, please try loading this page with nbviewer.org.</b></div><div class=\"sk-container\" hidden><div class=\"sk-item\"><div class=\"sk-estimator fitted sk-toggleable\"><input class=\"sk-toggleable__control sk-hidden--visually\" id=\"sk-estimator-id-1\" type=\"checkbox\" checked><label for=\"sk-estimator-id-1\" class=\"sk-toggleable__label fitted sk-toggleable__label-arrow fitted\">&nbsp;LGBMRegressor<span class=\"sk-estimator-doc-link fitted\">i<span>Fitted</span></span></label><div class=\"sk-toggleable__content fitted\"><pre>LGBMRegressor(learning_rate=0.01, min_child_weight=0.1, n_estimators=270)</pre></div> </div></div></div></div>"
      ],
      "text/plain": [
       "LGBMRegressor(learning_rate=0.01, min_child_weight=0.1, n_estimators=270)"
      ]
     },
     "execution_count": 147,
     "metadata": {},
     "output_type": "execute_result"
    }
   ],
   "source": [
    "final_model.fit(x,y)"
   ]
  },
  {
   "cell_type": "code",
   "execution_count": 153,
   "id": "51f3a512-b69e-4a16-8f20-787f8f96f93a",
   "metadata": {},
   "outputs": [
    {
     "data": {
      "text/plain": [
       "0.04833206447560101"
      ]
     },
     "execution_count": 153,
     "metadata": {},
     "output_type": "execute_result"
    }
   ],
   "source": [
    "final_model.score(x,y)"
   ]
  },
  {
   "cell_type": "code",
   "execution_count": 159,
   "id": "4bb1f5db-668f-414d-977a-9c70acf659c6",
   "metadata": {},
   "outputs": [],
   "source": [
    "pred = final_model.predict(test_data)"
   ]
  },
  {
   "cell_type": "code",
   "execution_count": 163,
   "id": "f06402ad-80ef-40e9-b067-1ff2d7a71a85",
   "metadata": {},
   "outputs": [
    {
     "data": {
      "text/plain": [
       "array([1383.74326359, 1118.47471426, 1078.47834605, ..., 1099.41510937,\n",
       "       1139.14185381, 1064.80085643])"
      ]
     },
     "execution_count": 163,
     "metadata": {},
     "output_type": "execute_result"
    }
   ],
   "source": [
    "pred"
   ]
  },
  {
   "cell_type": "code",
   "execution_count": 171,
   "id": "06280c31-0584-40cd-9eab-f9693a9134c7",
   "metadata": {},
   "outputs": [
    {
     "data": {
      "text/plain": [
       "0         False\n",
       "1         False\n",
       "2         False\n",
       "3         False\n",
       "4         False\n",
       "          ...  \n",
       "799995    False\n",
       "799996    False\n",
       "799997    False\n",
       "799998    False\n",
       "799999    False\n",
       "Name: Premium Amount, Length: 800000, dtype: bool"
      ]
     },
     "execution_count": 171,
     "metadata": {},
     "output_type": "execute_result"
    }
   ],
   "source": [
    "sample_data['Premium Amount']== pred"
   ]
  },
  {
   "cell_type": "code",
   "execution_count": 175,
   "id": "619e5695-3335-415f-83d0-7e25588ed654",
   "metadata": {},
   "outputs": [],
   "source": [
    "sample_data.to_csv('submission1.csv',index= False)"
   ]
  },
  {
   "cell_type": "code",
   "execution_count": null,
   "id": "bc810f26-722a-4e81-8b25-80981be2e0ca",
   "metadata": {},
   "outputs": [],
   "source": []
  }
 ],
 "metadata": {
  "kernelspec": {
   "display_name": "Python 3 (ipykernel)",
   "language": "python",
   "name": "python3"
  },
  "language_info": {
   "codemirror_mode": {
    "name": "ipython",
    "version": 3
   },
   "file_extension": ".py",
   "mimetype": "text/x-python",
   "name": "python",
   "nbconvert_exporter": "python",
   "pygments_lexer": "ipython3",
   "version": "3.12.4"
  }
 },
 "nbformat": 4,
 "nbformat_minor": 5
}
